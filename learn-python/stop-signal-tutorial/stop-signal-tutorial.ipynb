{
 "cells": [
  {
   "cell_type": "markdown",
   "metadata": {},
   "source": [
    "## Import required libraries"
   ]
  },
  {
   "cell_type": "code",
   "execution_count": 1,
   "metadata": {},
   "outputs": [],
   "source": [
    "import pandas as pd\n",
    "import numpy as np\n",
    "import seaborn as sns\n",
    "import matplotlib.pyplot as plt"
   ]
  },
  {
   "cell_type": "markdown",
   "metadata": {},
   "source": [
    "## Set data directories"
   ]
  },
  {
   "cell_type": "code",
   "execution_count": 2,
   "metadata": {},
   "outputs": [],
   "source": [
    "dataDir = \"./data/\"\n",
    "datafile = \"dar-cmand1DR-20201127\""
   ]
  },
  {
   "cell_type": "markdown",
   "metadata": {},
   "source": [
    "## Load in CSV data\n",
    "This data has been extracted in matlab and formatted for other uses"
   ]
  },
  {
   "cell_type": "code",
   "execution_count": 3,
   "metadata": {},
   "outputs": [],
   "source": [
    "data = pd.read_csv(dataDir+datafile+\"_stopBeh.csv\")"
   ]
  },
  {
   "cell_type": "markdown",
   "metadata": {},
   "source": [
    "## Extract stopping summaries"
   ]
  },
  {
   "cell_type": "markdown",
   "metadata": {},
   "source": [
    "Create a function to extract the summary data at each stop-signal delay. \n",
    "\n",
    "Let's see if we can make this into a standalone .py script"
   ]
  },
  {
   "cell_type": "markdown",
   "metadata": {},
   "source": [
    "Run the function above, and split the tuple output into three components for future plotting"
   ]
  },
  {
   "cell_type": "code",
   "execution_count": 4,
   "metadata": {},
   "outputs": [],
   "source": [
    "from stop_beh_main import get_stop_basics\n",
    "(ssd, pnc, ntr) = get_stop_basics(data)"
   ]
  },
  {
   "cell_type": "markdown",
   "metadata": {},
   "source": [
    "## Split data by value/reward condition"
   ]
  },
  {
   "cell_type": "code",
   "execution_count": 5,
   "metadata": {},
   "outputs": [],
   "source": [
    "df_highValue = data.loc[data['value'] == 1]\n",
    "df_lowValue = data.loc[data['value'] == 0]"
   ]
  },
  {
   "cell_type": "code",
   "execution_count": 6,
   "metadata": {},
   "outputs": [],
   "source": [
    "(ssd_high, pnc_high, ntr_high) = get_stop_basics(df_highValue)\n",
    "(ssd_low, pnc_low, ntr_low) = get_stop_basics(df_lowValue)"
   ]
  },
  {
   "cell_type": "markdown",
   "metadata": {},
   "source": [
    "## Generate inhbition function figure"
   ]
  },
  {
   "cell_type": "code",
   "execution_count": 7,
   "metadata": {},
   "outputs": [
    {
     "data": {
      "image/png": "[encoded data removed]",
      "text/plain": [
       "<Figure size 432x288 with 1 Axes>"
      ]
     },
     "metadata": {
      "needs_background": "light"
     },
     "output_type": "display_data"
    }
   ],
   "source": [
    "# Input data\n",
    "x_1 = np.array(ssd_high); y_1 = np.array(pnc_high)\n",
    "x_2 = np.array(ssd_low); y_2 = np.array(pnc_low)\n",
    "\n",
    "# Initiate plot type\n",
    "plt.plot(x_1, y_1, marker = 'o', color = 'magenta')\n",
    "plt.plot(x_2, y_2, marker = 'o', color = 'cyan')\n",
    "\n",
    "# Decorate plot\n",
    "plt.title(\"Inhibition Function\")\n",
    "plt.xlabel(\"Stop-signal delay (ms)\")\n",
    "plt.ylabel(\"P(respond | stop-signal)\")\n",
    "\n",
    "plt.xlim(50,550); plt.ylim(0,1.05)\n",
    "\n",
    "# Generate plot\n",
    "plt.show()"
   ]
  },
  {
   "cell_type": "markdown",
   "metadata": {},
   "source": [
    "## Extract GO response times"
   ]
  },
  {
   "cell_type": "code",
   "execution_count": 20,
   "metadata": {},
   "outputs": [],
   "source": [
    "# Get logged response times (RT) from the main dataframe, on trials in which no-stop-signal was presented\n",
    "nostop_rt = data[\"rt\"].loc[data[\"ss_presented\"] == 0]\n",
    "\n",
    "nostop_rt_high = df_highValue[\"rt\"].loc[df_highValue[\"ss_presented\"] == 0]\n",
    "nostop_rt_low = df_lowValue[\"rt\"].loc[df_lowValue[\"ss_presented\"] == 0]\n"
   ]
  },
  {
   "cell_type": "code",
   "execution_count": 9,
   "metadata": {},
   "outputs": [
    {
     "data": {
      "text/plain": [
       "[<matplotlib.lines.Line2D at 0x7fc7f3296eb0>]"
      ]
     },
     "execution_count": 9,
     "metadata": {},
     "output_type": "execute_result"
    },
    {
     "data": {
      "image/png": "[encoded data removed]",
      "text/plain": [
       "<Figure size 432x288 with 1 Axes>"
      ]
     },
     "metadata": {
      "needs_background": "light"
     },
     "output_type": "display_data"
    }
   ],
   "source": [
    "# Generate the cumulative distribution function for these RT's (on all trials)\n",
    "n_ns_trls = len(nostop_rt)\n",
    "rt_sorted = np.sort(nostop_rt)\n",
    "rt_cdf = np.arange(n_ns_trls) / float(n_ns_trls)\n",
    "\n",
    "plt.xlabel(\"Response time (ms)\")\n",
    "plt.ylabel(\"CDF\");\n",
    "plt.plot(rt_sorted,rt_cdf)"
   ]
  },
  {
   "cell_type": "markdown",
   "metadata": {},
   "source": [
    "## Estimate SSRT"
   ]
  },
  {
   "cell_type": "code",
   "execution_count": 21,
   "metadata": {},
   "outputs": [],
   "source": [
    "# Generate a function to find the RT corresponding to xth percentile of the CDF corresponding to the p(respond|stop-signal) at the given SSD.\n",
    "from stop_beh_main import find_nearest_rt\n",
    "from stop_beh_main import get_ssrtIntWeight\n",
    "\n",
    "stoppingBeh = {'high': {'ssd': ssd_high, 'pnc': pnc_high, 'ntr': ntr_high, 'nostop_rt': nostop_rt_high},\n",
    "               'low':  {'ssd': ssd_low, 'pnc': pnc_low, 'ntr': ntr_low, 'nostop_rt': nostop_rt_low}}\n",
    "\n",
    "\n",
    "ssrt = {}\n",
    "ssrt[\"high\"] = get_ssrtIntWeight(stoppingBeh[\"high\"])\n",
    "ssrt[\"low\"] = get_ssrtIntWeight(stoppingBeh[\"low\"])\n"
   ]
  }
 ],
 "metadata": {
  "interpreter": {
   "hash": "616effafd8ab250754bc218c54bb72c7e9d4a4f8c4cfe3b3beca9deb24c57e6c"
  },
  "kernelspec": {
   "display_name": "Python 3.9.7 64-bit ('learn-python': conda)",
   "language": "python",
   "name": "python3"
  },
  "language_info": {
   "codemirror_mode": {
    "name": "ipython",
    "version": 3
   },
   "file_extension": ".py",
   "mimetype": "text/x-python",
   "name": "python",
   "nbconvert_exporter": "python",
   "pygments_lexer": "ipython3",
   "version": "3.9.7"
  },
  "orig_nbformat": 4
 },
 "nbformat": 4,
 "nbformat_minor": 2
}
